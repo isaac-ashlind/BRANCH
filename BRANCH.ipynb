{
 "cells": [
  {
   "cell_type": "markdown",
   "id": "0dd33053",
   "metadata": {},
   "source": [
    "# BRANCH\n",
    "## (Boundary Region Analysis Notebook for Coronal Holes)"
   ]
  },
  {
   "cell_type": "markdown",
   "id": "fbd0ed7a",
   "metadata": {},
   "source": [
    "### import dependencies"
   ]
  },
  {
   "cell_type": "code",
   "execution_count": null,
   "id": "acc01ce8",
   "metadata": {},
   "outputs": [],
   "source": [
    "import os\n",
    "import cv2 as cv\n",
    "import numpy as np\n",
    "import pandas as pd\n",
    "import matplotlib.pyplot as plt\n",
    "import astropy.units as u\n",
    "from astropy.coordinates import SkyCoord\n",
    "from sunpy.map import Map\n",
    "from sunpy.net import Fido, attrs as a\n",
    "from scipy import signal\n",
    "from PIL import Image, ImageOps"
   ]
  },
  {
   "cell_type": "markdown",
   "id": "61a039e0",
   "metadata": {},
   "source": [
    "## Get AIA Data (2 options)"
   ]
  },
  {
   "cell_type": "markdown",
   "id": "352aff6b",
   "metadata": {},
   "source": [
    "### 1) VSO"
   ]
  },
  {
   "cell_type": "code",
   "execution_count": null,
   "id": "154cdbc9",
   "metadata": {},
   "outputs": [],
   "source": [
    "results = Fido.search(a.Time('2013/9/14 12:00:00', '2013/9/14 12:01:00'), a.Instrument.aia, \n",
    "                      a.Wavelength(193*u.angstrom))#, a.Sample(1*u.hour))\n",
    "results"
   ]
  },
  {
   "cell_type": "code",
   "execution_count": null,
   "id": "2ec6d150",
   "metadata": {
    "scrolled": false
   },
   "outputs": [],
   "source": [
    "files = Fido.fetch(results[0][0], path='./AIA/', progress=False) # progress=True for progress bar\n",
    "os.system(\"printf '\\a'\") # on OS X beeps when finished"
   ]
  },
  {
   "cell_type": "code",
   "execution_count": null,
   "id": "de01939f",
   "metadata": {
    "scrolled": true
   },
   "outputs": [],
   "source": [
    "files.errors"
   ]
  },
  {
   "cell_type": "code",
   "execution_count": null,
   "id": "75e06b34",
   "metadata": {},
   "outputs": [],
   "source": [
    "files = Fido.fetch(files, progress=False)\n",
    "os.system(\"printf '\\a'\") # on OS X beeps when finished"
   ]
  },
  {
   "cell_type": "code",
   "execution_count": null,
   "id": "81f09a0c",
   "metadata": {},
   "outputs": [],
   "source": [
    "files"
   ]
  },
  {
   "cell_type": "markdown",
   "id": "bd87486e",
   "metadata": {},
   "source": [
    "### 2) FITS files in AIA Folder"
   ]
  },
  {
   "cell_type": "code",
   "execution_count": null,
   "id": "af89a620",
   "metadata": {},
   "outputs": [],
   "source": [
    "files = os.listdir('./AIA')\n",
    "files = [f for f in files if not f.startswith('.')]\n",
    "files = ['AIA/' + f for f in files]\n",
    "files.sort()\n",
    "print(len(files))\n",
    "files"
   ]
  },
  {
   "cell_type": "markdown",
   "id": "1913abc5",
   "metadata": {},
   "source": [
    "### review full disc map"
   ]
  },
  {
   "cell_type": "code",
   "execution_count": null,
   "id": "2431116e",
   "metadata": {},
   "outputs": [],
   "source": [
    "index = 0 # change this to view different coronal holes\n",
    "Map(files[index])"
   ]
  },
  {
   "cell_type": "markdown",
   "id": "ef188357",
   "metadata": {},
   "source": [
    "### find width of 1000 arcsec window in pixels"
   ]
  },
  {
   "cell_type": "code",
   "execution_count": null,
   "id": "28cd41fc",
   "metadata": {},
   "outputs": [],
   "source": [
    "# 1 pixel = 0.6 arcsec, but submap doesn't always round to \n",
    "# the same pixel value. This is a problem later in the notebook, \n",
    "# so we need to ensure all submaps have the same pixel width\n",
    "\n",
    "pixel_width = int(np.round(1000/0.6 - 1))\n",
    "pixel_width"
   ]
  },
  {
   "cell_type": "markdown",
   "id": "da1c0f91",
   "metadata": {},
   "source": [
    "### crop data maps, create lists of image data and names"
   ]
  },
  {
   "cell_type": "code",
   "execution_count": null,
   "id": "3143f219",
   "metadata": {},
   "outputs": [],
   "source": [
    "smap_list = []\n",
    "name_list = []\n",
    "data_list = []\n",
    "bad_exposure = []\n",
    "\n",
    "for file in files:\n",
    "    map_temp = Map(file)\n",
    "    bottom_left = SkyCoord(-500*u.arcsec, -500*u.arcsec, frame=map_temp.coordinate_frame)\n",
    "    top_right = SkyCoord(500*u.arcsec, 500*u.arcsec, frame=map_temp.coordinate_frame)\n",
    "    submap = map_temp.submap(bottom_left, top_right=top_right)\n",
    "    \n",
    "    # Check exposure time around 2 seconds\n",
    "    if np.round(submap.exposure_time, decimals=0) == 2*u.second:\n",
    "        smap_list.append(submap)\n",
    "        # Don't include containing folder or extension in name\n",
    "        name_list.append(file[4:-5])\n",
    "        data = submap.data\n",
    "        # remove pixel values less than one\n",
    "        data[data < 1] = 1\n",
    "        # crop to ensure consistent pixel width\n",
    "        data = data[:pixel_width, :pixel_width]\n",
    "        data_list.append(data)\n",
    "    else:\n",
    "        bad_exposure.append(file)\n",
    "os.system(\"printf '\\a'\") # on OS X beeps when finished"
   ]
  },
  {
   "cell_type": "markdown",
   "id": "d2ec4768",
   "metadata": {},
   "source": [
    "### data w/ exposure time not equal to 2 seconds not used"
   ]
  },
  {
   "cell_type": "code",
   "execution_count": null,
   "id": "208440f6",
   "metadata": {
    "scrolled": true
   },
   "outputs": [],
   "source": [
    "print(f\"{len(files) - len(smap_list)} files not used due to incorrect exposure time\")\n",
    "bad_exposure"
   ]
  },
  {
   "cell_type": "markdown",
   "id": "29619421",
   "metadata": {},
   "source": [
    "# Contour Extraction"
   ]
  },
  {
   "cell_type": "markdown",
   "id": "611503e3",
   "metadata": {},
   "source": [
    "### review cropped sunpy map"
   ]
  },
  {
   "cell_type": "code",
   "execution_count": null,
   "id": "096c2ddc",
   "metadata": {
    "scrolled": false
   },
   "outputs": [],
   "source": [
    "index = 0 # change this to view different coronal holes\n",
    "smap_list[index]"
   ]
  },
  {
   "cell_type": "markdown",
   "id": "d8460bba",
   "metadata": {},
   "source": [
    "### global pyplot figure parameters"
   ]
  },
  {
   "cell_type": "code",
   "execution_count": null,
   "id": "29e9247b",
   "metadata": {},
   "outputs": [],
   "source": [
    "plt.rcParams['axes.labelsize'] = 20\n",
    "plt.rcParams['axes.titlesize'] = 24\n",
    "plt.rcParams['legend.title_fontsize'] = 18\n",
    "plt.rc('legend', fontsize=16)\n",
    "plt.rc('xtick', labelsize=14) \n",
    "plt.rc('ytick', labelsize=14) \n",
    "# uncomment for higher resolution images\n",
    "# plt.rcParams['figure.dpi'] = 300"
   ]
  },
  {
   "cell_type": "markdown",
   "id": "6d65cfa2",
   "metadata": {},
   "source": [
    "### find max and min pixel values"
   ]
  },
  {
   "cell_type": "code",
   "execution_count": null,
   "id": "e7d84459",
   "metadata": {
    "scrolled": true
   },
   "outputs": [],
   "source": [
    "minimum = np.min([np.min(x) for x in data_list])\n",
    "maximum = np.max([np.max(x) for x in data_list])\n",
    "print(f\"min: {minimum}\\nmax: {maximum}\")"
   ]
  },
  {
   "cell_type": "markdown",
   "id": "4d929157",
   "metadata": {},
   "source": [
    "### raw image"
   ]
  },
  {
   "cell_type": "code",
   "execution_count": null,
   "id": "58a2c14c",
   "metadata": {
    "scrolled": false
   },
   "outputs": [],
   "source": [
    "index = 0 # change this to view different coronal holes\n",
    "plt.figure(figsize=(12, 12))\n",
    "plt.imshow(data_list[index], cmap='gray', origin='lower')\n",
    "print(name_list[index])"
   ]
  },
  {
   "cell_type": "markdown",
   "id": "a55521e7",
   "metadata": {},
   "source": [
    "### take log of pixel values"
   ]
  },
  {
   "cell_type": "code",
   "execution_count": null,
   "id": "44982a53",
   "metadata": {},
   "outputs": [],
   "source": [
    "log_list = []\n",
    "for data in data_list:\n",
    "    log_list.append(np.log10(data))"
   ]
  },
  {
   "cell_type": "markdown",
   "id": "9f92f21f",
   "metadata": {},
   "source": [
    "### check new max and min pixel values"
   ]
  },
  {
   "cell_type": "code",
   "execution_count": null,
   "id": "3eed7b26",
   "metadata": {},
   "outputs": [],
   "source": [
    "log_min = np.min([np.min(x) for x in log_list])\n",
    "log_max = np.max([np.max(x) for x in log_list])\n",
    "print(f\"log min: {log_min}\\nlog max: {log_max}\")"
   ]
  },
  {
   "cell_type": "markdown",
   "id": "ec53ad77",
   "metadata": {},
   "source": [
    "### image in log space"
   ]
  },
  {
   "cell_type": "code",
   "execution_count": null,
   "id": "5ea41b7c",
   "metadata": {
    "scrolled": false
   },
   "outputs": [],
   "source": [
    "index = 0 # change this to view different coronal holes\n",
    "plt.figure(figsize=(12, 12))\n",
    "plt.imshow(log_list[index], cmap='gray', origin='lower')\n",
    "print(name_list[index])"
   ]
  },
  {
   "cell_type": "markdown",
   "id": "57d708fa",
   "metadata": {},
   "source": [
    "### look for threshold value (plot for all coronal holes)"
   ]
  },
  {
   "cell_type": "code",
   "execution_count": null,
   "id": "e475d63c",
   "metadata": {},
   "outputs": [],
   "source": [
    "pix_all = np.ravel(log_list)\n",
    "nbins = int((log_max-log_min)*1000)\n",
    "print(f\"{pix_all.shape[0]} pixels across all images\")"
   ]
  },
  {
   "cell_type": "code",
   "execution_count": null,
   "id": "3257578a",
   "metadata": {},
   "outputs": [],
   "source": [
    "plt.figure(figsize=(14, 4))\n",
    "plt.hist(pix_all, bins=nbins)\n",
    "plt.xlabel(\"Intensity [log(ct)]\")\n",
    "plt.ylabel(\"Count\")\n",
    "plt.show()\n",
    "os.system(\"printf '\\a'\") # on OS X beeps when finished"
   ]
  },
  {
   "cell_type": "code",
   "execution_count": null,
   "id": "732a79d1",
   "metadata": {},
   "outputs": [],
   "source": [
    "plt.figure(figsize=(14, 4))\n",
    "plt.hist(pix_all, bins=nbins)\n",
    "plt.xlim(1.5, 2.5)\n",
    "plt.xticks(np.arange(1.5, 2.5, 0.05))\n",
    "plt.xlabel(\"Intensity [log(ct)]\")\n",
    "plt.ylabel(\"Count\")\n",
    "plt.show()\n",
    "os.system(\"printf '\\a'\") # on OS X beeps when finished"
   ]
  },
  {
   "cell_type": "markdown",
   "id": "b19193ce",
   "metadata": {},
   "source": [
    "### apply binary threshold to image data in log space"
   ]
  },
  {
   "cell_type": "code",
   "execution_count": null,
   "id": "6cb5f72e",
   "metadata": {},
   "outputs": [],
   "source": [
    "thresh_list = []\n",
    "for log_data in log_list:\n",
    "    ret,thresh = cv.threshold(log_data, 1.85, 255, cv.THRESH_BINARY_INV) # 2nd arg is threshold\n",
    "    thresh_list.append(thresh.astype(np.uint8)) # uint8 needed for contour method"
   ]
  },
  {
   "cell_type": "code",
   "execution_count": null,
   "id": "4049aa06",
   "metadata": {},
   "outputs": [],
   "source": [
    "index = 0 # change this to view different coronal holes\n",
    "plt.figure(figsize=(12, 12))\n",
    "plt.imshow(thresh_list[index], cmap='gray', origin='lower')\n",
    "print(name_list[index])"
   ]
  },
  {
   "cell_type": "markdown",
   "id": "5c87cf82",
   "metadata": {},
   "source": [
    "### find contours, isolate coronal hole"
   ]
  },
  {
   "cell_type": "code",
   "execution_count": null,
   "id": "f35f0c40",
   "metadata": {},
   "outputs": [],
   "source": [
    "cont_list = []\n",
    "for thresh in thresh_list:\n",
    "    contours, hierarchy = cv.findContours(thresh, cv.RETR_EXTERNAL, cv.CHAIN_APPROX_NONE)\n",
    "    # use largest contour for CH\n",
    "    ch_cont = max(contours, key=len)\n",
    "    cont_list.append(ch_cont)"
   ]
  },
  {
   "cell_type": "markdown",
   "id": "a39a9a07",
   "metadata": {},
   "source": [
    "### draw contours on normalized log images"
   ]
  },
  {
   "cell_type": "code",
   "execution_count": null,
   "id": "a203582e",
   "metadata": {},
   "outputs": [],
   "source": [
    "norm_list = []\n",
    "draw_list = []\n",
    "for i in range(len(name_list)):\n",
    "    log = log_list[i].copy()\n",
    "    # normalize for rgb format\n",
    "    log_norm = (log - np.min(log))*(255/(np.max(log) - np.min(log)))\n",
    "    log_norm = np.array(log_norm, dtype=np.uint8)\n",
    "    norm_list.append(log_norm)\n",
    "    norm_rgb = cv.cvtColor(log_norm,cv.COLOR_GRAY2RGB)\n",
    "    cv.drawContours(norm_rgb, [cont_list[i]], 0, (0, 255, 0), 1)\n",
    "    draw_list.append(norm_rgb)"
   ]
  },
  {
   "cell_type": "markdown",
   "id": "9f591424",
   "metadata": {},
   "source": [
    "### check normalized max and min pixel values"
   ]
  },
  {
   "cell_type": "code",
   "execution_count": null,
   "id": "bf80d745",
   "metadata": {},
   "outputs": [],
   "source": [
    "norm_min = np.min([np.min(x) for x in norm_list])\n",
    "norm_max = np.max([np.max(x) for x in norm_list])\n",
    "print(f\"normalized min: {norm_min}\\nnormalized max: {norm_max}\")"
   ]
  },
  {
   "cell_type": "markdown",
   "id": "004ec1ff",
   "metadata": {},
   "source": [
    "### review normalized image and contour fit"
   ]
  },
  {
   "cell_type": "code",
   "execution_count": null,
   "id": "b04e57ac",
   "metadata": {
    "scrolled": false
   },
   "outputs": [],
   "source": [
    "index = 0 # change this to view different coronal holes\n",
    "plt.figure(figsize=(12, 12))\n",
    "plt.imshow(draw_list[index], origin='lower')\n",
    "print(name_list[index])"
   ]
  },
  {
   "cell_type": "markdown",
   "id": "1d53e1ad",
   "metadata": {},
   "source": [
    "## Convex Hull Analysis"
   ]
  },
  {
   "cell_type": "markdown",
   "id": "bd3b712f",
   "metadata": {},
   "source": [
    "### calculate defects"
   ]
  },
  {
   "cell_type": "code",
   "execution_count": null,
   "id": "fca4bfac",
   "metadata": {},
   "outputs": [],
   "source": [
    "defect_list = []\n",
    "for contour in cont_list:\n",
    "    hull = cv.convexHull(contour, returnPoints=False)\n",
    "    hull.sort(axis=0)\n",
    "    defect_list.append(cv.convexityDefects(contour, hull))"
   ]
  },
  {
   "cell_type": "markdown",
   "id": "150a36b0",
   "metadata": {},
   "source": [
    "### draw contour, convex hull, and defect farpoints"
   ]
  },
  {
   "cell_type": "code",
   "execution_count": null,
   "id": "a1d46c37",
   "metadata": {},
   "outputs": [],
   "source": [
    "draw_hull = []\n",
    "for i in range(len(norm_list)):\n",
    "    norm_rgb = cv.cvtColor(norm_list[i],cv.COLOR_GRAY2RGB)\n",
    "    for j in range(defect_list[i].shape[0]):\n",
    "        s,e,f,d = defect_list[i][j,0]\n",
    "        start = tuple(cont_list[i][s][0])\n",
    "        end = tuple(cont_list[i][e][0])\n",
    "        far = tuple(cont_list[i][f][0])\n",
    "        cv.line(norm_rgb, start, end, [0,0,255], 3)\n",
    "        cv.circle(norm_rgb ,far ,6 , [255,0,0], -1)\n",
    "    cv.drawContours(norm_rgb, [cont_list[i]], 0, (0, 255, 0), 1)\n",
    "    draw_hull.append(norm_rgb)"
   ]
  },
  {
   "cell_type": "code",
   "execution_count": null,
   "id": "da5f4d1e",
   "metadata": {},
   "outputs": [],
   "source": [
    "index = 0 # change this to view different coronal holes\n",
    "plt.figure(figsize=(12, 12))\n",
    "plt.imshow(draw_hull[index], origin='lower')\n",
    "print(name_list[index])"
   ]
  },
  {
   "cell_type": "markdown",
   "id": "7d0e2d7d",
   "metadata": {},
   "source": [
    "### calculate orthogonal distance between contour points and hull"
   ]
  },
  {
   "cell_type": "code",
   "execution_count": null,
   "id": "ea606340",
   "metadata": {
    "scrolled": true
   },
   "outputs": [],
   "source": [
    "sample_interval = 6 # arcsec\n",
    "tolerance = 1 # arcsec\n",
    "\n",
    "interval = sample_interval/0.6 # pixels\n",
    "tol_pix = tolerance/0.6\n",
    "\n",
    "ortho_list = []\n",
    "ortho_all = []\n",
    "draw_ortho = []\n",
    "\n",
    "for i in range(len(cont_list)):\n",
    "    ortho = []\n",
    "    norm_rgb = cv.cvtColor(norm_list[i],cv.COLOR_GRAY2RGB)\n",
    "    # reference opencv docs to better understand this code\n",
    "    for j in range(defect_list[i].shape[0]):\n",
    "        s,e,f,d = defect_list[i][j][0] # s and e are indices\n",
    "        start = np.array(cont_list[i][s][0])\n",
    "        end = np.array(cont_list[i][e][0])\n",
    "        if s < e:\n",
    "            point_list = cont_list[i][s:e]\n",
    "        else:\n",
    "            point_list = np.concatenate((cont_list[i][s:], cont_list[i][:e]))\n",
    "        \n",
    "        proj_last = 0\n",
    "        # calculate distance using linear algebra\n",
    "        for point in point_list:\n",
    "            hull = end - start\n",
    "            vector = point[0] - start\n",
    "            proj = (np.dot(hull, vector)/np.dot(hull, hull))*hull\n",
    "            proj_norm = np.linalg.norm(proj)\n",
    "\n",
    "            # check if the proj magnitude is close to a multiple of the sample interval\n",
    "            interval_flag = np.isclose(proj_norm%interval, 0.0, atol=tol_pix)\n",
    "            # check proj increasing\n",
    "            increase_flag = (np.linalg.norm(proj) - proj_last) > interval/2\n",
    "            # check proj in same direction as hull and proj does not exceed length of hull\n",
    "            bounds_flag = (np.dot(proj, hull) > 0) and (proj_norm <= np.linalg.norm(hull))\n",
    "            # check proj is a multiple of sampling frequency, increasing, and in bounds\n",
    "            if interval_flag and increase_flag and bounds_flag:\n",
    "                proj_last = proj_norm\n",
    "                magnitude = np.linalg.norm(vector - proj)\n",
    "                ortho.append(magnitude)\n",
    "                ortho_all.append(magnitude)\n",
    "                \n",
    "                # draw othogonal connections\n",
    "                line = np.array(start + proj, dtype='int32')\n",
    "                cv.line(norm_rgb, point[0], line, [255,0,255], 2)\n",
    "                cv.circle(norm_rgb, point[0], 6, [255,255,255], -1)\n",
    "                \n",
    "        cv.drawContours(norm_rgb, [cont_list[i]], 0, (0, 255, 0), 1)\n",
    "        cv.line(norm_rgb, start, end, [0,0,255], 3)\n",
    "        \n",
    "    ortho_list.append(ortho)\n",
    "    draw_ortho.append(norm_rgb)\n",
    "\n",
    "print(f\"Sampling interval: {sample_interval} arcsec\")\n",
    "print(f\"Tolerance: +/- {tolerance} arcsec\")\n",
    "os.system(\"printf '\\a'\") # on OS X beeps when finished"
   ]
  },
  {
   "cell_type": "markdown",
   "id": "52e4bc57",
   "metadata": {},
   "source": [
    "### plot histogram for all coronal holes"
   ]
  },
  {
   "cell_type": "code",
   "execution_count": null,
   "id": "c1d4f2ed",
   "metadata": {
    "scrolled": false
   },
   "outputs": [],
   "source": [
    "plt.figure(figsize=(14, 4))\n",
    "plt.hist(ortho_all, bins=len(ortho_all), color='C2')\n",
    "plt.title(\"Contour Point to Convex Hull (all)\")\n",
    "plt.xlabel(\"orthogonal distance (pixels)\")\n",
    "plt.ylabel(\"count\")\n",
    "mean = np.round(np.mean(ortho_all), 2)\n",
    "print(f\"Average distance: {mean} pixels = {np.round(mean*0.6, 2)} arcsec = {mean*0.6*750} km\")"
   ]
  },
  {
   "cell_type": "markdown",
   "id": "768c82f3",
   "metadata": {},
   "source": [
    "## Determine Characteristic Scales Per Coronal Hole"
   ]
  },
  {
   "cell_type": "code",
   "execution_count": null,
   "id": "84c4bb4d",
   "metadata": {
    "scrolled": false
   },
   "outputs": [],
   "source": [
    "index = 0 # change this to view different coronal holes\n",
    "plt.figure(figsize=(14, 4))\n",
    "plt.hist(ortho_list[index], bins=len(ortho_list[index]), color='C2')\n",
    "plt.title(\"Contour Point to Convex Hull\")\n",
    "plt.xlabel(\"orthogonal distance (pixels)\")\n",
    "plt.ylabel(\"count\")\n",
    "print(name_list[index])\n",
    "mean = np.round(np.mean(ortho_list[index]), 2)\n",
    "print(f\"Average distance: {mean} pixels = {np.round(mean*0.6, 2)} arcsec = {mean*0.6*750} km\")"
   ]
  },
  {
   "cell_type": "markdown",
   "id": "910c8f2b",
   "metadata": {},
   "source": [
    "### show connections orthogonal to hull"
   ]
  },
  {
   "cell_type": "code",
   "execution_count": null,
   "id": "76fbbf42",
   "metadata": {},
   "outputs": [],
   "source": [
    "index = 0 # change this to view different coronal holes\n",
    "plt.figure(figsize=(12, 12))\n",
    "plt.imshow(draw_ortho[index], origin='lower')\n",
    "print(name_list[index])"
   ]
  },
  {
   "cell_type": "markdown",
   "id": "d46f6003",
   "metadata": {},
   "source": [
    "### distance spectrum and fast fourier transform"
   ]
  },
  {
   "cell_type": "code",
   "execution_count": null,
   "id": "b10741a8",
   "metadata": {},
   "outputs": [],
   "source": [
    "x_list = []\n",
    "y_list = []\n",
    "xf_list = []\n",
    "yf_list = []\n",
    "idx_list = []\n",
    "\n",
    "for ortho in ortho_list:\n",
    "    n = len(ortho)\n",
    "    N = np.arange(n)\n",
    "    x = N*sample_interval\n",
    "    y = np.array(ortho)\n",
    "    y_balanced = y - np.mean(y)\n",
    "    \n",
    "    cutoff = int(n/2)\n",
    "    xf = (N/sample_interval/n)[:cutoff]\n",
    "    yf = np.abs(np.fft.fft(y_balanced).real)[:cutoff]\n",
    "    \n",
    "    # find relative maxima indices\n",
    "    max_idx = signal.argrelmax(yf)\n",
    "    peak_yf = np.sort(yf[max_idx])[-4:]\n",
    "    peak_idx = []\n",
    "    peak_idx.append(yf.tolist().index(peak_yf[-1]))\n",
    "    peak_idx.append(yf.tolist().index(peak_yf[-2]))\n",
    "    peak_idx.append(yf.tolist().index(peak_yf[-3]))\n",
    "    peak_idx.append(yf.tolist().index(peak_yf[-4]))\n",
    "    idx_list.append(peak_idx)\n",
    "    \n",
    "    x_list.append(x)\n",
    "    y_list.append(y)\n",
    "    xf_list.append(xf)\n",
    "    yf_list.append(yf)"
   ]
  },
  {
   "cell_type": "markdown",
   "id": "bc851d5a",
   "metadata": {},
   "source": [
    "### plot parallel vs. perpendicular distance (relative to convex hull)"
   ]
  },
  {
   "cell_type": "code",
   "execution_count": null,
   "id": "bb486a9d",
   "metadata": {},
   "outputs": [],
   "source": [
    "index = 0 # change this to view different coronal holes\n",
    "# convert from pixels to km\n",
    "x = x_list[index]*0.6*750\n",
    "y = y_list[index]*0.6*750\n",
    "plt.figure(figsize=(20, 6))\n",
    "plt.plot(x, y, color='C4')\n",
    "plt.ticklabel_format(style='plain')\n",
    "plt.title(\"Distance Relative to Convex Hull\")\n",
    "plt.xlabel(\"Parallel (km)\")\n",
    "plt.ylabel(\"Perpendicular (km)\")\n",
    "print(name_list[index])"
   ]
  },
  {
   "cell_type": "code",
   "execution_count": null,
   "id": "95d342bc",
   "metadata": {},
   "outputs": [],
   "source": [
    "index = 0 # change this to view different coronal holes\n",
    "x = x_list[index]\n",
    "y_balanced = y_list[index] - np.mean(y_list[index])\n",
    "plt.figure(figsize=(20, 6))\n",
    "plt.stem(x, y_balanced, basefmt='C1', linefmt='C4-', markerfmt='C1.')\n",
    "plt.title(\"Balanced Distance Spectrum\")\n",
    "plt.xlabel(\"Parallel (pixels)\")\n",
    "plt.ylabel(\"Perpendicular - mean (pixels)\")\n",
    "print(name_list[index])"
   ]
  },
  {
   "cell_type": "markdown",
   "id": "f61314d2",
   "metadata": {},
   "source": [
    "### plot fourier transform"
   ]
  },
  {
   "cell_type": "code",
   "execution_count": null,
   "id": "cbc438c3",
   "metadata": {
    "scrolled": false
   },
   "outputs": [],
   "source": [
    "index = 0 # change this to view different coronal holes\n",
    "x = xf_list[index]\n",
    "y = yf_list[index]\n",
    "peaks_idx = idx_list[index]\n",
    "peaks_xf = xf_list[index][peaks_idx]\n",
    "peaks_yf = yf_list[index][peaks_idx]\n",
    "\n",
    "plt.figure(figsize=(20, 6))\n",
    "plt.plot(x, y, c='C9')\n",
    "plt.scatter(peaks_xf, peaks_yf, marker='x', s=100, c='k')\n",
    "plt.title('Distance Spectrum FFT')\n",
    "plt.xlabel(\"$pixel^{-1}$\")\n",
    "print(name_list[index])"
   ]
  },
  {
   "cell_type": "code",
   "execution_count": null,
   "id": "8aa6a0ad",
   "metadata": {
    "scrolled": false
   },
   "outputs": [],
   "source": [
    "index = 0 # change this to view different coronal holes\n",
    "with np.errstate(divide='ignore'):\n",
    "    x = (0.6*750)/xf_list[index]\n",
    "y = yf_list[index]\n",
    "peaks_idx = idx_list[index]\n",
    "peaks_xf = (0.6*750)/xf_list[index][peaks_idx]\n",
    "peaks_yf = yf_list[index][peaks_idx]\n",
    "\n",
    "plt.figure(figsize=(20, 6))\n",
    "plt.plot(x, y, c='C9')\n",
    "plt.scatter(peaks_xf, peaks_yf, marker='x', s=100, c='k')\n",
    "plt.title('Distance Spectrum FFT')\n",
    "plt.xlabel(\"km\")\n",
    "print(name_list[index])"
   ]
  },
  {
   "cell_type": "markdown",
   "id": "9927b55d",
   "metadata": {},
   "source": [
    "## Contour Perimeter and Area"
   ]
  },
  {
   "cell_type": "code",
   "execution_count": null,
   "id": "e2a1193d",
   "metadata": {},
   "outputs": [],
   "source": [
    "peri_list = []\n",
    "area_list = []\n",
    "for contour in cont_list:\n",
    "    peri_list.append(cv.arcLength(contour,True))\n",
    "    area_list.append(cv.contourArea(contour))"
   ]
  },
  {
   "cell_type": "markdown",
   "id": "675453d5",
   "metadata": {},
   "source": [
    "### build scale dataframe (km)"
   ]
  },
  {
   "cell_type": "code",
   "execution_count": null,
   "id": "96be280b",
   "metadata": {
    "scrolled": true
   },
   "outputs": [],
   "source": [
    "scale_km = pd.DataFrame(index=name_list)\n",
    "scale_km['perimeter'] = (np.array(peri_list)*0.6*750).astype('int')\n",
    "scale_km['area km^2'] = (np.array(area_list)*(0.6*750)**2).astype('int')\n",
    "scale_km.head()"
   ]
  },
  {
   "cell_type": "markdown",
   "id": "ebe02006",
   "metadata": {},
   "source": [
    "### save scale dataframe to file"
   ]
  },
  {
   "cell_type": "code",
   "execution_count": null,
   "id": "3d1f1a76",
   "metadata": {},
   "outputs": [],
   "source": [
    "scale_km.to_pickle('./DataFrames/scale_km.pkl')"
   ]
  },
  {
   "cell_type": "markdown",
   "id": "b40bb304",
   "metadata": {},
   "source": [
    "## Extent and Centroid"
   ]
  },
  {
   "cell_type": "markdown",
   "id": "b9d522b8",
   "metadata": {},
   "source": [
    "### calculate centroid"
   ]
  },
  {
   "cell_type": "code",
   "execution_count": null,
   "id": "ac2c9497",
   "metadata": {},
   "outputs": [],
   "source": [
    "centroid_x = []\n",
    "centroid_y = []\n",
    "\n",
    "for contour in cont_list:\n",
    "    M = cv.moments(contour)\n",
    "    # pixels\n",
    "    pix_x = M['m10']/M['m00']\n",
    "    pix_y = M['m01']/M['m00']\n",
    "    # arcsec\n",
    "    arc_x = round(pix_x*0.6 - 500, 2)\n",
    "    arc_y = round(pix_y*0.6 - 500, 2)\n",
    "    centroid_x.append(arc_x)\n",
    "    centroid_y.append(arc_y)"
   ]
  },
  {
   "cell_type": "markdown",
   "id": "30444f67",
   "metadata": {},
   "source": [
    "### build and review extent dataframe"
   ]
  },
  {
   "cell_type": "code",
   "execution_count": null,
   "id": "e7d2981b",
   "metadata": {},
   "outputs": [],
   "source": [
    "arc_east = []\n",
    "arc_west = []\n",
    "arc_north = []\n",
    "arc_south = []\n",
    "arc_long = []\n",
    "arc_lat = []\n",
    "\n",
    "for contour in cont_list:\n",
    "    # pixels\n",
    "    pix_east = np.min(contour[:, 0, 0])\n",
    "    pix_west = np.max(contour[:, 0, 0])\n",
    "    pix_south = np.min(contour[:, 0, 1])\n",
    "    pix_north = np.max(contour[:, 0, 1])\n",
    "    pix_long = pix_west - pix_east\n",
    "    pix_lat = pix_north - pix_south\n",
    "    # arcsec\n",
    "    arc_east.append(pix_east*0.6 - 500)\n",
    "    arc_west.append(pix_west*0.6 - 500)\n",
    "    arc_north.append(pix_north*0.6 - 500)\n",
    "    arc_south.append(pix_south*0.6 - 500)\n",
    "    arc_long.append(pix_long*0.6)\n",
    "    arc_lat.append(pix_lat*0.6)"
   ]
  },
  {
   "cell_type": "code",
   "execution_count": null,
   "id": "4c915a97",
   "metadata": {},
   "outputs": [],
   "source": [
    "extent_arcsec = pd.DataFrame(index=name_list)\n",
    "extent_arcsec['east'] = arc_east\n",
    "extent_arcsec['west'] = arc_west\n",
    "extent_arcsec['north'] = arc_north\n",
    "extent_arcsec['south'] = arc_south\n",
    "extent_arcsec['longitude'] = arc_long\n",
    "extent_arcsec['latitude'] = arc_lat\n",
    "extent_arcsec['centroid_x'] = centroid_x\n",
    "extent_arcsec['centroid_y'] = centroid_y\n",
    "extent_arcsec.head()"
   ]
  },
  {
   "cell_type": "markdown",
   "id": "9fb09223",
   "metadata": {},
   "source": [
    "### print averages"
   ]
  },
  {
   "cell_type": "code",
   "execution_count": null,
   "id": "a262d9a2",
   "metadata": {},
   "outputs": [],
   "source": [
    "extent_arcsec.mean()"
   ]
  },
  {
   "cell_type": "markdown",
   "id": "55c71772",
   "metadata": {},
   "source": [
    "### save extent dataframe to file"
   ]
  },
  {
   "cell_type": "code",
   "execution_count": null,
   "id": "9aee9da7",
   "metadata": {},
   "outputs": [],
   "source": [
    "extent_arcsec.to_pickle('./DataFrames/extent_arcsec.pkl')"
   ]
  },
  {
   "cell_type": "markdown",
   "id": "4a6e03fc",
   "metadata": {},
   "source": [
    "## Binary Contour and Grayscale Boundary Region Maps \n",
    "## (for Fractal Analysis with ImageJ and FracLac)"
   ]
  },
  {
   "cell_type": "markdown",
   "id": "69adb622",
   "metadata": {},
   "source": [
    "### full"
   ]
  },
  {
   "cell_type": "code",
   "execution_count": null,
   "id": "bfe1c18d",
   "metadata": {},
   "outputs": [],
   "source": [
    "full_cont = []\n",
    "for i in range(len(norm_list)):\n",
    "    mask = np.zeros(norm_list[i].shape)\n",
    "    cv.drawContours(mask, [cont_list[i]], 0, (255), 1)\n",
    "    full_cont.append(mask)"
   ]
  },
  {
   "cell_type": "code",
   "execution_count": null,
   "id": "107513ac",
   "metadata": {},
   "outputs": [],
   "source": [
    "index = 0 # change this to view different coronal holes\n",
    "plt.figure(figsize=(12, 12))\n",
    "plt.imshow(full_cont[index], cmap='gray', origin='lower')\n",
    "print(name_list[index])"
   ]
  },
  {
   "cell_type": "code",
   "execution_count": null,
   "id": "28b4bbcd",
   "metadata": {},
   "outputs": [],
   "source": [
    "full_chbr = [] # CHBR = Coronal Hole Boundary Region\n",
    "for i in range(len(norm_list)):\n",
    "    mask = np.zeros(norm_list[i].shape, dtype=np.uint8)\n",
    "    cv.drawContours(mask, [cont_list[i]], 0, (255), 50) # last arg is contour width\n",
    "    chbr = cv.bitwise_and(norm_list[i], mask)\n",
    "    # Color background green\n",
    "    chbr_rgb = cv.cvtColor(chbr,cv.COLOR_GRAY2RGB)\n",
    "    chbr_rgb[mask==0] = (0,177,64) # Chroma key green\n",
    "    full_chbr.append(chbr_rgb)"
   ]
  },
  {
   "cell_type": "code",
   "execution_count": null,
   "id": "6a32ffb8",
   "metadata": {},
   "outputs": [],
   "source": [
    "index = 0 # change this to view different coronal holes\n",
    "plt.figure(figsize=(12, 12))\n",
    "plt.imshow(full_chbr[index], origin='lower')\n",
    "print(name_list[index])"
   ]
  },
  {
   "cell_type": "markdown",
   "id": "9ca1b8e3",
   "metadata": {},
   "source": [
    "### north/South split"
   ]
  },
  {
   "cell_type": "code",
   "execution_count": null,
   "id": "ce45e929",
   "metadata": {},
   "outputs": [],
   "source": [
    "cont_list_north = []\n",
    "cont_list_south = []\n",
    "\n",
    "for contour in cont_list:\n",
    "    contour = np.array(contour)\n",
    "    \n",
    "    # find extreme east/west pixels\n",
    "    min_x = np.min(contour[:, 0, 0])\n",
    "    max_x = np.max(contour[:, 0, 0])\n",
    "    # identify indices for extrema\n",
    "    min_x_indices = [i for i in range(len(contour)) if contour[i, 0, 0] == min_x]\n",
    "    max_x_indices = [i for i in range(len(contour)) if contour[i, 0, 0] == max_x]\n",
    "    \n",
    "    # find mean y value for eastern extrema\n",
    "    east_y = int(np.mean([y for y in contour[min_x_indices, 0, 1]]))\n",
    "    # find index of easternmost coordinate with y from above\n",
    "    east_y_indices = [i for i in range(len(contour)) if contour[i, 0, 1] == east_y]\n",
    "    east_x = np.min([contour[i, 0, 0] for i in east_y_indices])\n",
    "    east_index = contour.tolist().index([[east_x, east_y]])\n",
    "    \n",
    "    # find mean y value for western extrema\n",
    "    west_y = int(np.mean([y for y in contour[max_x_indices, 0, 1]]))\n",
    "    # find index of westernmost coordinate with y from above\n",
    "    west_y_indices = [i for i in range(len(contour)) if contour[i, 0, 1] == west_y]\n",
    "    west_x = np.max([contour[i, 0, 0] for i in west_y_indices])\n",
    "    west_index = contour.tolist().index([[west_x, west_y]])\n",
    "  \n",
    "    # cut contour into three pieces using above coordinates\n",
    "    # create 2 new partial contours (north, south) from these 3 pieces\n",
    "    # first coordinate is southeast with origin at lower east\n",
    "    # contour indices ascend clockise with origin at lower east\n",
    "    if east_index < west_index:\n",
    "        cont_list_north.append(contour[east_index:west_index])\n",
    "        cont_list_south.append(np.concatenate((contour[west_index:], contour[:east_index])))\n",
    "    else:\n",
    "        cont_list_north.append(np.concatenate((contour[east_index:], contour[:west_index])))\n",
    "        cont_list_south.append(contour[west_index:east_index])"
   ]
  },
  {
   "cell_type": "markdown",
   "id": "96be3dc1",
   "metadata": {},
   "source": [
    "### North"
   ]
  },
  {
   "cell_type": "code",
   "execution_count": null,
   "id": "85ccb187",
   "metadata": {},
   "outputs": [],
   "source": [
    "north_cont = []\n",
    "for i in range(len(norm_list)):\n",
    "    mask = np.zeros(norm_list[i].shape, dtype=np.uint8)\n",
    "    cv.polylines(mask, [cont_list_north[i]], 0, (255), 1)\n",
    "    north_cont.append(mask)"
   ]
  },
  {
   "cell_type": "code",
   "execution_count": null,
   "id": "098ec78d",
   "metadata": {
    "scrolled": false
   },
   "outputs": [],
   "source": [
    "index = 0 # change this to view different coronal holes\n",
    "plt.figure(figsize=(12, 12))\n",
    "plt.imshow(north_cont[index], cmap='gray', origin='lower')\n",
    "print(name_list[index])"
   ]
  },
  {
   "cell_type": "code",
   "execution_count": null,
   "id": "7fb3c939",
   "metadata": {},
   "outputs": [],
   "source": [
    "north_chbr = [] # CHBR = Coronal Hole Boundary Region\n",
    "for i in range(len(norm_list)):\n",
    "    mask = np.zeros(norm_list[i].shape, dtype=np.uint8)\n",
    "    cv.polylines(mask, [cont_list_north[i]], 0, (255), 50) # last arg is contour width\n",
    "    chbr = cv.bitwise_and(norm_list[i], mask)\n",
    "    # Color background green\n",
    "    chbr_rgb = cv.cvtColor(chbr,cv.COLOR_GRAY2RGB)\n",
    "    chbr_rgb[mask==0] = (0,177,64) # Chroma key green\n",
    "    north_chbr.append(chbr_rgb)"
   ]
  },
  {
   "cell_type": "code",
   "execution_count": null,
   "id": "de7ba5e2",
   "metadata": {},
   "outputs": [],
   "source": [
    "index = 0 # change this to view different coronal holes\n",
    "plt.figure(figsize=(12, 12))\n",
    "plt.imshow(north_chbr[index], origin='lower')\n",
    "print(name_list[index])"
   ]
  },
  {
   "cell_type": "markdown",
   "id": "06de67c1",
   "metadata": {},
   "source": [
    "### South"
   ]
  },
  {
   "cell_type": "code",
   "execution_count": null,
   "id": "790dbaa5",
   "metadata": {},
   "outputs": [],
   "source": [
    "south_cont = []\n",
    "for i in range(len(norm_list)):\n",
    "    mask = np.zeros(norm_list[i].shape, dtype=np.uint8)\n",
    "    cv.polylines(mask, [cont_list_south[i]], 0, (255), 1)\n",
    "    south_cont.append(mask)"
   ]
  },
  {
   "cell_type": "code",
   "execution_count": null,
   "id": "eeb05b2b",
   "metadata": {
    "scrolled": false
   },
   "outputs": [],
   "source": [
    "index = 0 # change this to view different coronal holes\n",
    "plt.figure(figsize=(12, 12))\n",
    "plt.imshow(south_cont[index], cmap='gray', origin='lower')\n",
    "print(name_list[index])"
   ]
  },
  {
   "cell_type": "code",
   "execution_count": null,
   "id": "0b23eba5",
   "metadata": {},
   "outputs": [],
   "source": [
    "south_chbr = [] # CHBR = Coronal Hole Boundary Region\n",
    "for i in range(len(norm_list)):\n",
    "    mask = np.zeros(norm_list[i].shape, dtype=np.uint8)\n",
    "    cv.polylines(mask, [cont_list_south[i]], 0, (255), 50) # last arg is contour width\n",
    "    chbr = cv.bitwise_and(norm_list[i], mask)\n",
    "    # Color background green\n",
    "    chbr_rgb = cv.cvtColor(chbr,cv.COLOR_GRAY2RGB)\n",
    "    chbr_rgb[mask==0] = (0,177,64) # Chroma key green\n",
    "    south_chbr.append(chbr_rgb)"
   ]
  },
  {
   "cell_type": "code",
   "execution_count": null,
   "id": "f0654fa8",
   "metadata": {},
   "outputs": [],
   "source": [
    "index = 0 # change this to view different coronal holes\n",
    "plt.figure(figsize=(12, 12))\n",
    "plt.imshow(south_chbr[index], origin='lower')\n",
    "print(name_list[index])"
   ]
  },
  {
   "cell_type": "markdown",
   "id": "c5941de6",
   "metadata": {},
   "source": [
    "### East/West split"
   ]
  },
  {
   "cell_type": "code",
   "execution_count": null,
   "id": "3a1ff3c3",
   "metadata": {},
   "outputs": [],
   "source": [
    "cont_list_east = []\n",
    "cont_list_west = []\n",
    "\n",
    "for contour in cont_list:\n",
    "    contour = np.array(contour)\n",
    "    \n",
    "    # find extreme south/north pixels\n",
    "    min_y = np.min(contour[:, 0, 1])\n",
    "    max_y = np.max(contour[:, 0, 1])\n",
    "    # identify indices for extrema\n",
    "    min_y_indices = [i for i in range(len(contour)) if contour[i, 0, 1] == min_y]\n",
    "    max_y_indices = [i for i in range(len(contour)) if contour[i, 0, 1] == max_y]\n",
    "    \n",
    "    # find mean x value for southern extrema\n",
    "    south_x = int(np.mean([x for x in contour[min_y_indices, 0, 0]]))\n",
    "    # find index of southernmost coordinate with x from above\n",
    "    south_x_indices = [i for i in range(len(contour)) if contour[i, 0, 0] == south_x]\n",
    "    south_y = np.min([contour[i, 0, 1] for i in south_x_indices])\n",
    "    south_index = contour.tolist().index([[south_x, south_y]])\n",
    "    \n",
    "    # find mean x value for northern extrema\n",
    "    north_x = int(np.mean([x for x in contour[max_y_indices, 0, 0]]))\n",
    "    # find index of northernmost coordinate with x from above\n",
    "    north_x_indices = [i for i in range(len(contour)) if contour[i, 0, 0] == north_x]\n",
    "    north_y = np.max([contour[i, 0, 1] for i in north_x_indices])\n",
    "    north_index = contour.tolist().index([[north_x, north_y]])\n",
    "  \n",
    "    # cut contour into three pieces using above coordinates\n",
    "    # create 2 new partial contours (north, south) from these 3 pieces\n",
    "    # first coordinate southeast with origin at lower east\n",
    "    # contour indices ascend counterclockwise, down is north\n",
    "    if south_index < north_index:\n",
    "        cont_list_east.append(contour[south_index:north_index])\n",
    "        cont_list_west.append(np.concatenate([contour[north_index:], contour[:south_index]]))\n",
    "    else: # south_index > north_index\n",
    "        cont_list_east.append(np.concatenate([contour[south_index:], contour[:north_index]]))\n",
    "        cont_list_west.append(contour[north_index:south_index])"
   ]
  },
  {
   "cell_type": "markdown",
   "id": "083792b1",
   "metadata": {},
   "source": [
    "### East"
   ]
  },
  {
   "cell_type": "code",
   "execution_count": null,
   "id": "9b75d0b6",
   "metadata": {},
   "outputs": [],
   "source": [
    "east_cont = []\n",
    "for i in range(len(norm_list)):\n",
    "    mask = np.zeros(norm_list[i].shape, dtype=np.uint8)\n",
    "    cv.polylines(mask, [cont_list_east[i]], 0, (255), 1)\n",
    "    east_cont.append(mask)"
   ]
  },
  {
   "cell_type": "code",
   "execution_count": null,
   "id": "f15fe4d5",
   "metadata": {
    "scrolled": false
   },
   "outputs": [],
   "source": [
    "index = 0 # change this to view different coronal holes\n",
    "plt.figure(figsize=(12, 12))\n",
    "plt.imshow(east_cont[index], cmap='gray', origin='lower')\n",
    "print(name_list[index])"
   ]
  },
  {
   "cell_type": "code",
   "execution_count": null,
   "id": "ea9c4365",
   "metadata": {},
   "outputs": [],
   "source": [
    "east_chbr = [] # CHBR = Coronal Hole Boundary Region\n",
    "for i in range(len(norm_list)):\n",
    "    mask = np.zeros(norm_list[i].shape, dtype=np.uint8)\n",
    "    cv.polylines(mask, [cont_list_east[i]], 0, (255), 50) # last arg is contour width\n",
    "    chbr = cv.bitwise_and(norm_list[i], mask)\n",
    "    # Color background green\n",
    "    chbr_rgb = cv.cvtColor(chbr,cv.COLOR_GRAY2RGB)\n",
    "    chbr_rgb[mask==0] = (0,177,64) # Chroma key green\n",
    "    east_chbr.append(chbr_rgb)"
   ]
  },
  {
   "cell_type": "code",
   "execution_count": null,
   "id": "eb7c70ed",
   "metadata": {},
   "outputs": [],
   "source": [
    "index = 0 # change this to view different coronal holes\n",
    "plt.figure(figsize=(12, 12))\n",
    "plt.imshow(east_chbr[index], origin='lower')\n",
    "print(name_list[index])"
   ]
  },
  {
   "cell_type": "markdown",
   "id": "593ff7b0",
   "metadata": {},
   "source": [
    "### West"
   ]
  },
  {
   "cell_type": "code",
   "execution_count": null,
   "id": "48486921",
   "metadata": {},
   "outputs": [],
   "source": [
    "west_cont = []\n",
    "for i in range(len(norm_list)):\n",
    "    mask = np.zeros(norm_list[i].shape, dtype=np.uint8)\n",
    "    cv.polylines(mask, [cont_list_west[i]], 0, (255), 1)\n",
    "    west_cont.append(mask)"
   ]
  },
  {
   "cell_type": "code",
   "execution_count": null,
   "id": "12e660e1",
   "metadata": {
    "scrolled": false
   },
   "outputs": [],
   "source": [
    "index = 0 # change this to view different coronal holes\n",
    "plt.figure(figsize=(12, 12))\n",
    "plt.imshow(west_cont[index], cmap='gray', origin='lower')\n",
    "print(name_list[index])"
   ]
  },
  {
   "cell_type": "code",
   "execution_count": null,
   "id": "422c4120",
   "metadata": {},
   "outputs": [],
   "source": [
    "west_chbr = [] # CHBR = Coronal Hole Boundary Region\n",
    "for i in range(len(norm_list)):\n",
    "    mask = np.zeros(norm_list[i].shape, dtype=np.uint8)\n",
    "    cv.polylines(mask, [cont_list_west[i]], 0, (255), 50) # last arg is contour width\n",
    "    chbr = cv.bitwise_and(norm_list[i], mask)\n",
    "    # Color background green\n",
    "    chbr_rgb = cv.cvtColor(chbr,cv.COLOR_GRAY2RGB)\n",
    "    chbr_rgb[mask==0] = (0,177,64) # Chroma key green\n",
    "    west_chbr.append(chbr_rgb)"
   ]
  },
  {
   "cell_type": "code",
   "execution_count": null,
   "id": "c461f192",
   "metadata": {},
   "outputs": [],
   "source": [
    "index = 0 # change this to view different coronal holes\n",
    "plt.figure(figsize=(12, 12))\n",
    "plt.imshow(west_chbr[index], origin='lower')\n",
    "print(name_list[index])"
   ]
  },
  {
   "cell_type": "markdown",
   "id": "d8f07d45",
   "metadata": {},
   "source": [
    "### save to file"
   ]
  },
  {
   "cell_type": "code",
   "execution_count": null,
   "id": "23a7d10a",
   "metadata": {},
   "outputs": [],
   "source": [
    "for i in range(len(name_list)):\n",
    "    # image data must be flipped vertically to match sunpy maps\n",
    "    \n",
    "    # contours\n",
    "    full_c = ImageOps.flip(Image.fromarray(full_cont[i]))\n",
    "    full_c.save(f\"./CHContours/Full/{name_list[i]}_full_cont.tif\", format='tiff')\n",
    "    north_c = ImageOps.flip(Image.fromarray(north_cont[i]))\n",
    "    north_c.save(f\"./CHContours/North/{name_list[i]}_north_cont.tif\", format='tiff')\n",
    "    south_c = ImageOps.flip(Image.fromarray(south_cont[i]))\n",
    "    south_c.save(f\"./CHContours/South/{name_list[i]}_south_cont.tif\", format='tiff')\n",
    "    east_c = ImageOps.flip(Image.fromarray(east_cont[i]))\n",
    "    east_c.save(f\"./CHContours/East/{name_list[i]}_east_cont.tif\", format='tiff')\n",
    "    west_c = ImageOps.flip(Image.fromarray(west_cont[i]))\n",
    "    west_c.save(f\"./CHContours/West/{name_list[i]}_west_cont.tif\", format='tiff')\n",
    "    \n",
    "    # coronal hole boundary regions\n",
    "    full_br = ImageOps.flip(Image.fromarray(full_chbr[i]))\n",
    "    full_br.save(f\"./CHBRegions/Full/{name_list[i]}_full_chbr.tif\", format='tiff')\n",
    "    north_br = ImageOps.flip(Image.fromarray(north_chbr[i]))\n",
    "    north_br.save(f\"./CHBRegions/North/{name_list[i]}_north_chbr.tif\", format='tiff')\n",
    "    south_br = ImageOps.flip(Image.fromarray(south_chbr[i]))\n",
    "    south_br.save(f\"./CHBRegions/South/{name_list[i]}_south_chbr.tif\", format='tiff')\n",
    "    east_br = ImageOps.flip(Image.fromarray(east_chbr[i]))\n",
    "    east_br.save(f\"./CHBRegions/East/{name_list[i]}_east_chbr.tif\", format='tiff')\n",
    "    west_br = ImageOps.flip(Image.fromarray(west_chbr[i]))\n",
    "    west_br.save(f\"./CHBRegions/West/{name_list[i]}_west_chbr.tif\", format='tiff') "
   ]
  }
 ],
 "metadata": {
  "kernelspec": {
   "display_name": "Python 3 (ipykernel)",
   "language": "python",
   "name": "python3"
  },
  "language_info": {
   "codemirror_mode": {
    "name": "ipython",
    "version": 3
   },
   "file_extension": ".py",
   "mimetype": "text/x-python",
   "name": "python",
   "nbconvert_exporter": "python",
   "pygments_lexer": "ipython3",
   "version": "3.9.6"
  }
 },
 "nbformat": 4,
 "nbformat_minor": 5
}
